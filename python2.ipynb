{
  "nbformat": 4,
  "nbformat_minor": 0,
  "metadata": {
    "colab": {
      "provenance": []
    },
    "kernelspec": {
      "name": "python3",
      "display_name": "Python 3"
    },
    "language_info": {
      "name": "python"
    }
  },
  "cells": [
    {
      "cell_type": "code",
      "source": [
        "import numpy as np\n"
      ],
      "metadata": {
        "id": "GMYm_TsImb6t"
      },
      "execution_count": 2,
      "outputs": []
    },
    {
      "cell_type": "markdown",
      "source": [
        "1.Write a Python program to accept a string value from the user and display\n",
        "the count of each character in that string. Sample input: Enter a string\n",
        "value: assembly Sample output: a=1, s=2, e=1, m=1, b=1, l=1, y=1"
      ],
      "metadata": {
        "id": "oLdv3Xc6kpEY"
      }
    },
    {
      "cell_type": "code",
      "execution_count": 11,
      "metadata": {
        "colab": {
          "base_uri": "https://localhost:8080/"
        },
        "id": "fWjoZSTh7fYm",
        "outputId": "e20a8498-fb3b-47bd-c9fb-8988909a2b6b"
      },
      "outputs": [
        {
          "output_type": "stream",
          "name": "stdout",
          "text": [
            "Enter the stringassembly\n",
            "a = 1\n",
            "l = 1\n",
            "b = 1\n",
            "e = 1\n",
            "y = 1\n",
            "m = 1\n",
            "s = 2\n"
          ]
        }
      ],
      "source": [
        "text=input(\"Enter the string\")\n",
        "characters=set(text)\n",
        "for i in characters:\n",
        "  count=0\n",
        "  for j in text:\n",
        "    if i==j:\n",
        "      count=count+1\n",
        "    else:\n",
        "      continue\n",
        "  print(i,\"=\",count)\n"
      ]
    },
    {
      "cell_type": "markdown",
      "source": [
        "2. . Write a Python function to find the maximum of three numbers Sample\n",
        "input: 34,12,7 Sample output: 34"
      ],
      "metadata": {
        "id": "pbkSFlmZksd-"
      }
    },
    {
      "cell_type": "code",
      "source": [
        "a=(34,12,7)\n",
        "b=max(a)\n",
        "b"
      ],
      "metadata": {
        "colab": {
          "base_uri": "https://localhost:8080/"
        },
        "id": "mSfa2oNckoDG",
        "outputId": "733278cb-4bcd-4acd-8c61-8e428aebdb19"
      },
      "execution_count": 3,
      "outputs": [
        {
          "output_type": "execute_result",
          "data": {
            "text/plain": [
              "34"
            ]
          },
          "metadata": {},
          "execution_count": 3
        }
      ]
    },
    {
      "cell_type": "markdown",
      "source": [
        "3.Write a Python function called exponent(base,exp) that returns an\n",
        "integer value of base raises to the power of exp. Sample input: Enter the\n",
        "base: 2 Enter the exponent: 3 Sample output: 8"
      ],
      "metadata": {
        "id": "jtWJmAWdmAXB"
      }
    },
    {
      "cell_type": "code",
      "source": [
        "base=int(input('base: '))\n",
        "exp=int(input('exp: '))\n",
        "a=base**exp\n",
        "a"
      ],
      "metadata": {
        "colab": {
          "base_uri": "https://localhost:8080/"
        },
        "id": "kR1z5r1dk99l",
        "outputId": "aa4c80d6-775a-493e-b193-1e2d0b6fed9b"
      },
      "execution_count": 9,
      "outputs": [
        {
          "name": "stdout",
          "output_type": "stream",
          "text": [
            "base: 2\n",
            "exp: 3\n"
          ]
        },
        {
          "output_type": "execute_result",
          "data": {
            "text/plain": [
              "8"
            ]
          },
          "metadata": {},
          "execution_count": 9
        }
      ]
    },
    {
      "cell_type": "markdown",
      "source": [
        "4. Write a Python function that takes a positive integer and returns the sum\n",
        "of the cube of all the positive integers smaller than the specified number.\n",
        "Sample input: 4 Sample output: 36."
      ],
      "metadata": {
        "id": "jW2jmp86qDDn"
      }
    },
    {
      "cell_type": "code",
      "source": [
        "n=int(input('enter a positive integer'))\n",
        "sum=0\n",
        "for i in range(1,n):\n",
        "  sum=sum+(i**3)\n",
        "sum\n",
        "\n"
      ],
      "metadata": {
        "colab": {
          "base_uri": "https://localhost:8080/"
        },
        "id": "yMqEh4MYl3pF",
        "outputId": "0ce0e3b1-42dd-41b2-81ac-6403268e34ae"
      },
      "execution_count": 12,
      "outputs": [
        {
          "name": "stdout",
          "output_type": "stream",
          "text": [
            "enter a positive integer4\n"
          ]
        },
        {
          "output_type": "execute_result",
          "data": {
            "text/plain": [
              "36"
            ]
          },
          "metadata": {},
          "execution_count": 12
        }
      ]
    },
    {
      "cell_type": "markdown",
      "source": [
        "5.Write a Python program which iterates from 1 to 10. For multiples of 2,\n",
        "print “Fizz” instead of the number and for the multiples of 5, print “Buzz”.\n",
        "For numbers which are multiples of both 2 and 5, print “FizzBuzz”.\n",
        "Sample input: numbers from 1 to 10 Sample output:"
      ],
      "metadata": {
        "id": "a78CmqlwqP9U"
      }
    },
    {
      "cell_type": "code",
      "source": [
        "for i in range(1, 11):\n",
        "    if i % 2 == 0 and i % 5 == 0:\n",
        "        print('FizzBuzz')\n",
        "    elif i % 2 == 0:\n",
        "        print('Fizz')\n",
        "    elif i % 5 == 0:\n",
        "        print('Buzz')\n",
        "    else:\n",
        "        print(i)\n"
      ],
      "metadata": {
        "colab": {
          "base_uri": "https://localhost:8080/"
        },
        "id": "iUfKmRsxru6j",
        "outputId": "dce7f180-da62-4d1c-c4a5-132ad3cf31c3"
      },
      "execution_count": 7,
      "outputs": [
        {
          "output_type": "stream",
          "name": "stdout",
          "text": [
            "1\n",
            "Fizz\n",
            "3\n",
            "Fizz\n",
            "Buzz\n",
            "Fizz\n",
            "7\n",
            "Fizz\n",
            "9\n",
            "FizzBuzz\n"
          ]
        }
      ]
    },
    {
      "cell_type": "markdown",
      "source": [
        "6. Write a Python program to find the most frequent item in a list of\n",
        "numbers. Sample input: 2, 3, 4, 2, 5, 2 Sample output: 2"
      ],
      "metadata": {
        "id": "DtjTn7SK1OvF"
      }
    },
    {
      "cell_type": "code",
      "source": [
        "num=[2,3,4,2,5,2]\n",
        "freq={}\n",
        "for i in num:\n",
        "  count=0\n",
        "  for j in num:\n",
        "    if i==j:\n",
        "      count=count+1\n",
        "    else:\n",
        "      continue\n",
        "  freq[str(i)]=count"
      ],
      "metadata": {
        "id": "pkYl1AVpsJRR"
      },
      "execution_count": 5,
      "outputs": []
    },
    {
      "cell_type": "code",
      "source": [
        "max(freq.values())\n",
        "for i in num:\n",
        "  if freq[str(i)]==(max(freq.values())):\n",
        "    print(\"most frequent item is \",i)\n",
        "    break\n",
        "  else:\n",
        "    continue"
      ],
      "metadata": {
        "colab": {
          "base_uri": "https://localhost:8080/"
        },
        "id": "f_aU4JYqEb9N",
        "outputId": "43034f82-a2f8-43f8-b574-f9a8f1c7f2bb"
      },
      "execution_count": 10,
      "outputs": [
        {
          "output_type": "stream",
          "name": "stdout",
          "text": [
            "most frequent item is  2\n"
          ]
        }
      ]
    },
    {
      "cell_type": "markdown",
      "source": [
        "7. Write a Python program to find the sum of squares of the numbers in a\n",
        "list. Sample input: 2,1,3,1 Sample output: 15"
      ],
      "metadata": {
        "id": "djc87tq71bWI"
      }
    },
    {
      "cell_type": "code",
      "source": [
        "set=(2,1,3,1)\n",
        "sum=0\n",
        "for i in set:\n",
        "  sum=sum+(i**2)\n",
        "sum"
      ],
      "metadata": {
        "colab": {
          "base_uri": "https://localhost:8080/"
        },
        "id": "tG5urAWZ1aw1",
        "outputId": "a3604a89-1197-4825-9749-6e81aa6e86be"
      },
      "execution_count": 6,
      "outputs": [
        {
          "output_type": "execute_result",
          "data": {
            "text/plain": [
              "15"
            ]
          },
          "metadata": {},
          "execution_count": 6
        }
      ]
    },
    {
      "cell_type": "markdown",
      "source": [
        "8. Write a Python program using for loop that will iterate from 1 to 15. For\n",
        "each iteration, check if the current number is odd or even, and display the\n",
        "message to the screen as odd or even. Sample input: 1….15 Sample\n",
        "output: 1-odd 2-even …. 15-odd"
      ],
      "metadata": {
        "id": "ZVlwgYFC2_Bg"
      }
    },
    {
      "cell_type": "code",
      "source": [
        "for i in range(1,16):\n",
        "  if i%2==0:\n",
        "    print ('Even')\n",
        "  else:\n",
        "    print ('odd')"
      ],
      "metadata": {
        "colab": {
          "base_uri": "https://localhost:8080/"
        },
        "id": "3c8js4uv2xB_",
        "outputId": "5266645b-da51-4a38-aacd-c83003c8505f"
      },
      "execution_count": 1,
      "outputs": [
        {
          "output_type": "stream",
          "name": "stdout",
          "text": [
            "odd\n",
            "Even\n",
            "odd\n",
            "Even\n",
            "odd\n",
            "Even\n",
            "odd\n",
            "Even\n",
            "odd\n",
            "Even\n",
            "odd\n",
            "Even\n",
            "odd\n",
            "Even\n",
            "odd\n"
          ]
        }
      ]
    },
    {
      "cell_type": "markdown",
      "source": [
        "9. Write a Python program to convert temperatures to and from Celsius\n",
        "Fahrenheit. [Formula: c/5=f-32/9 where c=temperature in Celsius and f=\n",
        "temperature in Fahrenheit.] Sample input: Temperature in Fahrenheit\n",
        "=41 Sample output: Temperature in Celsius =5"
      ],
      "metadata": {
        "id": "YoO1fcPy3vKG"
      }
    },
    {
      "cell_type": "code",
      "source": [
        "f=int(input('Temperature in Fahrenheit '))\n",
        "c=(f-32)*(5/9)\n",
        "print(c,'Celsius')"
      ],
      "metadata": {
        "colab": {
          "base_uri": "https://localhost:8080/"
        },
        "id": "CPGibpCM3stU",
        "outputId": "6c58b1c5-8adc-4f5a-d530-43c15831fb44"
      },
      "execution_count": 5,
      "outputs": [
        {
          "output_type": "stream",
          "name": "stdout",
          "text": [
            "Temperature in Fahrenheit 41\n",
            "5.0 Celsius\n"
          ]
        }
      ]
    },
    {
      "cell_type": "markdown",
      "source": [
        "10. Write a Python function to calculate the factorial of a number (a\n",
        "nonnegative integer). The function accepts the number as an argument.\n",
        "Sample input: 3 Sample output: 6"
      ],
      "metadata": {
        "id": "pFVAABVs-MQJ"
      }
    },
    {
      "cell_type": "code",
      "source": [
        "w=int(input('enter a positive integer'))\n",
        "factorial=1\n",
        "for i in range(1,(w+1)):\n",
        "  factorial=factorial*i\n",
        "factorial\n"
      ],
      "metadata": {
        "colab": {
          "base_uri": "https://localhost:8080/"
        },
        "id": "QSeeEalt54Px",
        "outputId": "6225fd27-686c-48da-d547-d739541fae96"
      },
      "execution_count": 23,
      "outputs": [
        {
          "name": "stdout",
          "output_type": "stream",
          "text": [
            "enter a positive integer3\n"
          ]
        },
        {
          "output_type": "execute_result",
          "data": {
            "text/plain": [
              "6"
            ]
          },
          "metadata": {},
          "execution_count": 23
        }
      ]
    },
    {
      "cell_type": "code",
      "source": [],
      "metadata": {
        "id": "aPqPXO7R9TAh"
      },
      "execution_count": null,
      "outputs": []
    }
  ]
}