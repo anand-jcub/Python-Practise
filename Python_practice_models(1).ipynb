{
  "nbformat": 4,
  "nbformat_minor": 0,
  "metadata": {
    "colab": {
      "provenance": []
    },
    "kernelspec": {
      "name": "python3",
      "display_name": "Python 3"
    },
    "language_info": {
      "name": "python"
    }
  },
  "cells": [
    {
      "cell_type": "code",
      "execution_count": 3,
      "metadata": {
        "id": "LaVyHLO-lQ9k"
      },
      "outputs": [],
      "source": [
        "import numpy as np\n",
        "import pandas as pd\n",
        "\n"
      ]
    },
    {
      "cell_type": "markdown",
      "source": [
        "1. Write a Python program which accepts the radius of a circle from the user\n",
        "and compute the area.\n",
        "Sample input: Enter the radius: 3\n",
        "Sample output: Area of Circle is 28.59999999999"
      ],
      "metadata": {
        "id": "G8FncRDPsM5T"
      }
    },
    {
      "cell_type": "code",
      "source": [
        "radius= int(input('enter the radius-'))\n",
        "area= np.pi*(radius**2)\n",
        "print('area',area)"
      ],
      "metadata": {
        "colab": {
          "base_uri": "https://localhost:8080/"
        },
        "id": "_nuxB0Qulf2i",
        "outputId": "9b8db1c7-bfd5-4514-b497-810bc7893388"
      },
      "execution_count": null,
      "outputs": [
        {
          "output_type": "stream",
          "name": "stdout",
          "text": [
            "enter the radius-5\n",
            "area 78.53981633974483\n"
          ]
        }
      ]
    },
    {
      "cell_type": "markdown",
      "source": [
        "2.Write a Python Program to accept the details of a student like name, roll\n",
        "number and mark and display it.\n",
        "Sample input: Enter the name: Anisha\n",
        "Enter the roll number: 21\n",
        "Enter the mark: 78\n",
        "Sample output: Name: Anisha\n",
        "Roll No: 21\n",
        "Mark: 78"
      ],
      "metadata": {
        "id": "kU0YJrPrsTRl"
      }
    },
    {
      "cell_type": "code",
      "source": [
        "name= input('name-')\n",
        "roll_no=int(input('roll no.-'))\n",
        "mark=int(input('mark-'))\n"
      ],
      "metadata": {
        "colab": {
          "base_uri": "https://localhost:8080/"
        },
        "id": "Aqo1GfremjAL",
        "outputId": "43dcd162-29df-4967-a2a2-d608fba9fbbd"
      },
      "execution_count": null,
      "outputs": [
        {
          "name": "stdout",
          "output_type": "stream",
          "text": [
            "name-a\n",
            "roll no.-1\n",
            "mark-2\n"
          ]
        }
      ]
    },
    {
      "cell_type": "markdown",
      "source": [
        "3. Write a Python program to get the largest number from a list.\n",
        "Sample input: 12, 3, 47, 10\n",
        "Sample output: 47 is the largest number."
      ],
      "metadata": {
        "id": "68VJI1SCsZGa"
      }
    },
    {
      "cell_type": "code",
      "source": [
        "numbers= (12,3,47,10)\n",
        "print(max(numbers), 'is the largest number')"
      ],
      "metadata": {
        "id": "UIACVC7_o29q",
        "colab": {
          "base_uri": "https://localhost:8080/"
        },
        "outputId": "805428f5-1b35-456f-e519-e90105a7c7fc"
      },
      "execution_count": 1,
      "outputs": [
        {
          "output_type": "stream",
          "name": "stdout",
          "text": [
            "47 is the largest number\n"
          ]
        }
      ]
    },
    {
      "cell_type": "markdown",
      "source": [
        "4. Given a range of first 10 numbers, write a Python program to iterate from\n",
        "start number to the end number and print the sum of the current number\n",
        "and previous number.\n",
        "Sample input: 1….10\n",
        "Sample output: Current Number 1 Previous Number 0 Sum: 1 Current\n",
        "Number 2 Previous Number 1 Sum: 3 Current Number 3 Previous\n",
        "Number 2 Sum: 5… Current Number 10 Previous Number 9 Sum: 19"
      ],
      "metadata": {
        "id": "slgTZcePsl5S"
      }
    },
    {
      "cell_type": "code",
      "source": [
        "a=np.arange(1,11)\n",
        "a\n",
        "for i in a:\n",
        "  b=(i+(i-1))\n",
        "  print(b)\n",
        "\n"
      ],
      "metadata": {
        "colab": {
          "base_uri": "https://localhost:8080/"
        },
        "id": "sAw1MPOalEbe",
        "outputId": "74fd12a8-e400-4311-97f9-1af55695cdb8"
      },
      "execution_count": 11,
      "outputs": [
        {
          "output_type": "stream",
          "name": "stdout",
          "text": [
            "1\n",
            "3\n",
            "5\n",
            "7\n",
            "9\n",
            "11\n",
            "13\n",
            "15\n",
            "17\n",
            "19\n"
          ]
        }
      ]
    },
    {
      "cell_type": "markdown",
      "source": [
        "5. Write a Python program to print only those numbers which are divisible\n",
        "of 5.\n",
        "Sample input: 10, 20,33,46,55 Sample output: 10, 20, 55"
      ],
      "metadata": {
        "id": "ZAWWsFXjss4n"
      }
    },
    {
      "cell_type": "code",
      "source": [
        "a=(10,20,33,46,55)\n",
        "for i in a:\n",
        "  if i%5==0:\n",
        "    print(i)\n",
        ""
      ],
      "metadata": {
        "colab": {
          "base_uri": "https://localhost:8080/"
        },
        "id": "QeG3OSaunezH",
        "outputId": "2b10d8ae-bdb2-4e5a-f9a4-a6da0d5f8635"
      },
      "execution_count": 18,
      "outputs": [
        {
          "output_type": "stream",
          "name": "stdout",
          "text": [
            "10\n",
            "20\n",
            "55\n"
          ]
        }
      ]
    },
    {
      "cell_type": "markdown",
      "source": [
        "6. Write a Python program to check whether a number is prime or not.\n",
        "Sample input: Enter the number: 3\n",
        "Sample output: 3 is a prime number."
      ],
      "metadata": {
        "id": "LeLfwFTqsw_I"
      }
    },
    {
      "cell_type": "code",
      "source": [
        "a=int(input('enter the number: '))\n",
        "ss=0\n",
        "for i in range(2,a):\n",
        "  if a%i==0:\n",
        "    ss=ss+1\n",
        "  else:\n",
        "    continue\n",
        "if ss>0:\n",
        "  print(a,'is not prime')\n",
        "else:\n",
        "  print(a,'is prime')\n"
      ],
      "metadata": {
        "colab": {
          "base_uri": "https://localhost:8080/"
        },
        "id": "mbvgzL8AlY0K",
        "outputId": "6298dc36-8bfe-44dd-f4f3-3e41699f6984"
      },
      "execution_count": 8,
      "outputs": [
        {
          "output_type": "stream",
          "name": "stdout",
          "text": [
            "enter the number: 2\n",
            "2 is prime\n"
          ]
        }
      ]
    },
    {
      "cell_type": "markdown",
      "source": [
        "7. Write a Python program to reverse a list using for loop.\n",
        "Sample input: 10,40,30,70\n",
        "Sample output: 70,30,40,10"
      ],
      "metadata": {
        "id": "BKT0zekQK1Hg"
      }
    },
    {
      "cell_type": "code",
      "source": [
        "z=[10,40,30,70]\n",
        "output=[]\n",
        "for i in range(len(z)-1,-1,-1):\n",
        "  output.append(z[i])\n",
        "output\n",
        ""
      ],
      "metadata": {
        "colab": {
          "base_uri": "https://localhost:8080/"
        },
        "id": "iDktG6QCq-JT",
        "outputId": "0119bebb-8eec-4f64-fb68-c1a14485c74f"
      },
      "execution_count": 4,
      "outputs": [
        {
          "output_type": "execute_result",
          "data": {
            "text/plain": [
              "[70, 30, 40, 10]"
            ]
          },
          "metadata": {},
          "execution_count": 4
        }
      ]
    },
    {
      "cell_type": "markdown",
      "source": [
        "8.. Write a Python program to print the following pattern.\n",
        "*\n",
        "**\n",
        "***\n",
        "****"
      ],
      "metadata": {
        "id": "pg5i89bSIcJd"
      }
    },
    {
      "cell_type": "code",
      "source": [
        "for i in range(1,5):\n",
        "  print('*'*i)"
      ],
      "metadata": {
        "colab": {
          "base_uri": "https://localhost:8080/"
        },
        "id": "E3YSl7Qcy5vb",
        "outputId": "473b7fef-dfc2-4f20-d46e-8503cbdf22e2"
      },
      "execution_count": 20,
      "outputs": [
        {
          "output_type": "stream",
          "name": "stdout",
          "text": [
            "*\n",
            "**\n",
            "***\n",
            "****\n"
          ]
        }
      ]
    },
    {
      "cell_type": "markdown",
      "source": [
        "9.Write a Python program to find the maximum of three numbers\n",
        "Sample input: 34,12,7\n",
        "Sample output: 34"
      ],
      "metadata": {
        "id": "rfH9NoX11Ziv"
      }
    },
    {
      "cell_type": "code",
      "source": [
        "aa=(34,12,7)\n",
        "print(max(aa))"
      ],
      "metadata": {
        "colab": {
          "base_uri": "https://localhost:8080/"
        },
        "id": "uxUVTs2t0HXi",
        "outputId": "02e40098-3806-43e0-c781-c93cce8be8b2"
      },
      "execution_count": 21,
      "outputs": [
        {
          "output_type": "stream",
          "name": "stdout",
          "text": [
            "34\n"
          ]
        }
      ]
    },
    {
      "cell_type": "code",
      "source": [
        "10. Write a Python program to construct the following pattern, using a\n",
        "nested for loop.\n",
        "*\n",
        "**\n",
        "***\n",
        "****\n",
        "*****\n",
        "****\n",
        "***\n",
        "**\n",
        "*"
      ],
      "metadata": {
        "id": "ji3BcJbvNMj-"
      },
      "execution_count": null,
      "outputs": []
    },
    {
      "cell_type": "code",
      "source": [
        "for i in range(1,5):\n",
        "  print('*'*i)\n",
        "for j in range(5,0,-1):\n",
        "  print('*'*j)"
      ],
      "metadata": {
        "colab": {
          "base_uri": "https://localhost:8080/"
        },
        "id": "7dZA4Zmh1q2W",
        "outputId": "cf8c40fa-f5b3-4f4e-b0cb-442ac3ce380f"
      },
      "execution_count": 30,
      "outputs": [
        {
          "output_type": "stream",
          "name": "stdout",
          "text": [
            "*\n",
            "**\n",
            "***\n",
            "****\n",
            "*****\n",
            "****\n",
            "***\n",
            "**\n",
            "*\n"
          ]
        }
      ]
    },
    {
      "cell_type": "code",
      "source": [],
      "metadata": {
        "id": "glWBwnMp4-na"
      },
      "execution_count": null,
      "outputs": []
    }
  ]
}